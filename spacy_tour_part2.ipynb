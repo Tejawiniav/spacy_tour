{
 "cells": [
  {
   "cell_type": "markdown",
   "metadata": {},
   "source": [
    "# A tour of awesome features of spaCy (part 2/2)"
   ]
  },
  {
   "cell_type": "code",
   "execution_count": 1,
   "metadata": {},
   "outputs": [],
   "source": [
    "#!python -m spacy download en_vectors_web_lg"
   ]
  },
  {
   "cell_type": "markdown",
   "metadata": {},
   "source": [
    "## Pretraining"
   ]
  },
  {
   "cell_type": "code",
   "execution_count": 1,
   "metadata": {},
   "outputs": [],
   "source": [
    "import pandas as pd\n",
    "train_df = pd.read_csv('train.csv')"
   ]
  },
  {
   "cell_type": "code",
   "execution_count": 2,
   "metadata": {},
   "outputs": [
    {
     "data": {
      "text/html": [
       "<div>\n",
       "<style scoped>\n",
       "    .dataframe tbody tr th:only-of-type {\n",
       "        vertical-align: middle;\n",
       "    }\n",
       "\n",
       "    .dataframe tbody tr th {\n",
       "        vertical-align: top;\n",
       "    }\n",
       "\n",
       "    .dataframe thead th {\n",
       "        text-align: right;\n",
       "    }\n",
       "</style>\n",
       "<table border=\"1\" class=\"dataframe\">\n",
       "  <thead>\n",
       "    <tr style=\"text-align: right;\">\n",
       "      <th></th>\n",
       "      <th>title</th>\n",
       "      <th>mlai</th>\n",
       "    </tr>\n",
       "  </thead>\n",
       "  <tbody>\n",
       "    <tr>\n",
       "      <th>0</th>\n",
       "      <td>The Road Ahead: Artificial Intelligence will a...</td>\n",
       "      <td>1</td>\n",
       "    </tr>\n",
       "    <tr>\n",
       "      <th>1</th>\n",
       "      <td>Can Robots Teach Us How to Be Human?</td>\n",
       "      <td>1</td>\n",
       "    </tr>\n",
       "    <tr>\n",
       "      <th>2</th>\n",
       "      <td>Vehicle DC Voltage Converter Step down 24V to ...</td>\n",
       "      <td>0</td>\n",
       "    </tr>\n",
       "    <tr>\n",
       "      <th>3</th>\n",
       "      <td>Which Is The Best Tablet For Kids?</td>\n",
       "      <td>0</td>\n",
       "    </tr>\n",
       "    <tr>\n",
       "      <th>4</th>\n",
       "      <td>Top 10 Strongest Dog Breeds in the World</td>\n",
       "      <td>0</td>\n",
       "    </tr>\n",
       "  </tbody>\n",
       "</table>\n",
       "</div>"
      ],
      "text/plain": [
       "                                               title  mlai\n",
       "0  The Road Ahead: Artificial Intelligence will a...     1\n",
       "1               Can Robots Teach Us How to Be Human?     1\n",
       "2  Vehicle DC Voltage Converter Step down 24V to ...     0\n",
       "3                 Which Is The Best Tablet For Kids?     0\n",
       "4           Top 10 Strongest Dog Breeds in the World     0"
      ]
     },
     "execution_count": 2,
     "metadata": {},
     "output_type": "execute_result"
    }
   ],
   "source": [
    "train_df.head()"
   ]
  },
  {
   "cell_type": "code",
   "execution_count": 3,
   "metadata": {},
   "outputs": [],
   "source": [
    "# no need to run this, texts.jsonl is already available \n",
    "import jsonlines \n",
    "with jsonlines.open('texts.jsonl', mode='w') as writer:\n",
    "    for text in train_df.title:\n",
    "        writer.write({'text':text})"
   ]
  },
  {
   "cell_type": "code",
   "execution_count": 4,
   "metadata": {},
   "outputs": [
    {
     "name": "stdout",
     "output_type": "stream",
     "text": [
      "125517\n"
     ]
    }
   ],
   "source": [
    "# word count\n",
    "count = 0\n",
    "for title in train_df.title:\n",
    "    count += len(title.split())\n",
    "\n",
    "print(count)"
   ]
  },
  {
   "cell_type": "code",
   "execution_count": 5,
   "metadata": {},
   "outputs": [
    {
     "name": "stdout",
     "output_type": "stream",
     "text": [
      "usage: spacy pretrain [-h] [-cw 96] [-cd 4] [-er 2000] [-L cosine] [-uv]\n",
      "                      [-d 0.2] [-i 1000] [-bs 3000] [-xw 500] [-nw 5] [-s 0]\n",
      "                      texts_loc vectors_model output_dir\n",
      "\n",
      "    Pre-train the 'token-to-vector' (tok2vec) layer of pipeline components,\n",
      "    using an approximate language-modelling objective. Specifically, we load\n",
      "    pre-trained vectors, and train a component like a CNN, BiLSTM, etc to predict\n",
      "    vectors which match the pre-trained ones. The weights are saved to a directory\n",
      "    after each epoch. You can then pass a path to one of these pre-trained weights\n",
      "    files to the 'spacy train' command.\n",
      "\n",
      "    This technique may be especially helpful if you have little labelled data.\n",
      "    However, it's still quite experimental, so your mileage may vary.\n",
      "\n",
      "    To load the weights back in during 'spacy train', you need to ensure\n",
      "    all settings are the same between pretraining and training. The API and\n",
      "    errors around this need some improvement.\n",
      "    \n",
      "\n",
      "positional arguments:\n",
      "  texts_loc             Path to jsonl file with texts to learn from\n",
      "  vectors_model         Name or path to vectors model to learn from\n",
      "  output_dir            Directory to write models each epoch\n",
      "\n",
      "optional arguments:\n",
      "  -h, --help            show this help message and exit\n",
      "  -cw 96, --width 96    Width of CNN layers\n",
      "  -cd 4, --depth 4      Depth of CNN layers\n",
      "  -er 2000, --embed-rows 2000\n",
      "                        Embedding rows\n",
      "  -L cosine, --loss-func cosine\n",
      "                        Loss to use for the objective. L2 or cosine\n",
      "  -uv, --use-vectors    Whether to use the static vectors as input features\n",
      "  -d 0.2, --dropout 0.2\n",
      "                        Dropout\n",
      "  -i 1000, --nr-iter 1000\n",
      "                        Number of iterations to pretrain\n",
      "  -bs 3000, --batch-size 3000\n",
      "                        Number of words per training batch\n",
      "  -xw 500, --max-length 500\n",
      "                        Max words per example.\n",
      "  -nw 5, --min-length 5\n",
      "                        Min words per example.\n",
      "  -s 0, --seed 0        Seed for random number generators\n"
     ]
    }
   ],
   "source": [
    "!python -m spacy pretrain -h"
   ]
  },
  {
   "cell_type": "code",
   "execution_count": 6,
   "metadata": {},
   "outputs": [],
   "source": [
    "#!python -m spacy pretrain texts.jsonl en_vectors_web_lg ./pretrained-model\n",
    "#!python -m spacy pretrain texts.jsonl en_vectors_web_lg ./pretrained-model-vecs --use-vectors"
   ]
  },
  {
   "cell_type": "markdown",
   "metadata": {},
   "source": [
    "## Training "
   ]
  },
  {
   "cell_type": "code",
   "execution_count": 7,
   "metadata": {},
   "outputs": [],
   "source": [
    "# preprocess trian data\n",
    "train_texts = train_df['title']\n",
    "train_cats = [{\"POSITIVE\": bool(y), \"NEGATIVE\": not bool(y)} \n",
    "                 for y in train_df['mlai']]\n",
    "\n",
    "# load and preprocess dev data\n",
    "dev_df = pd.read_csv('dev.csv')\n",
    "dev_texts = dev_df['title']\n",
    "dev_cats = [{\"POSITIVE\": bool(y), \"NEGATIVE\": not bool(y)} \n",
    "                 for y in dev_df['mlai']]\n",
    "\n",
    "train_data = list(zip(train_texts, [{\"cats\": cats} \n",
    "                                     for cats in train_cats]))"
   ]
  },
  {
   "cell_type": "code",
   "execution_count": 8,
   "metadata": {},
   "outputs": [
    {
     "data": {
      "text/plain": [
       "('The Road Ahead: Artificial Intelligence will assist in regulatory compliance',\n",
       " {'cats': {'POSITIVE': True, 'NEGATIVE': False}})"
      ]
     },
     "execution_count": 8,
     "metadata": {},
     "output_type": "execute_result"
    }
   ],
   "source": [
    "train_data[0]"
   ]
  },
  {
   "cell_type": "code",
   "execution_count": 9,
   "metadata": {},
   "outputs": [
    {
     "name": "stdout",
     "output_type": "stream",
     "text": [
      "15896\n",
      "7937\n"
     ]
    }
   ],
   "source": [
    "print(len(train_texts))\n",
    "print(len(dev_texts))"
   ]
  },
  {
   "cell_type": "code",
   "execution_count": 10,
   "metadata": {},
   "outputs": [],
   "source": [
    "# this code is modified from spaCy's user guide for TextCategorizer training \n",
    "import random\n",
    "from pathlib import Path\n",
    "import numpy as np\n",
    "\n",
    "import spacy\n",
    "from spacy.util import minibatch, compounding\n",
    "\n",
    "def main(model=None, n_iter=5, init_tok2vec=None):\n",
    "    if model is not None:\n",
    "        nlp = spacy.load(model)  # load existing spaCy model\n",
    "        print(\"Loaded model '%s'\" % model)\n",
    "    else:\n",
    "        nlp = spacy.blank(\"en\")  # create blank Language class\n",
    "        print(\"Created blank 'en' model\")\n",
    "\n",
    "    # add the text classifier to the pipeline if it doesn't exist\n",
    "    # nlp.create_pipe works for built-ins that are registered with spaCy\n",
    "    if \"textcat\" not in nlp.pipe_names:\n",
    "        textcat = nlp.create_pipe(\n",
    "            \"textcat\",\n",
    "            config={\n",
    "                \"exclusive_classes\": True,\n",
    "                \"architecture\": \"simple_cnn\",\n",
    "            }\n",
    "        )\n",
    "        nlp.add_pipe(textcat, last=True)\n",
    "    # otherwise, get it, so we can add labels to it\n",
    "    else:\n",
    "        textcat = nlp.get_pipe(\"textcat\")\n",
    "\n",
    "    # add label to text classifier\n",
    "    textcat.add_label(\"POSITIVE\")\n",
    "    textcat.add_label(\"NEGATIVE\")\n",
    "\n",
    "    # load the datasets\n",
    "    print(\"Loading data...\")\n",
    "    train_df = pd.read_csv('train.csv')\n",
    "    train_texts = train_df['title']\n",
    "    train_cats = [{\"POSITIVE\": bool(y), \"NEGATIVE\": not bool(y)} \n",
    "                     for y in train_df['mlai']]\n",
    "\n",
    "    dev_df = pd.read_csv('dev.csv')\n",
    "    dev_texts = dev_df['title']\n",
    "    dev_cats = [{\"POSITIVE\": bool(y), \"NEGATIVE\": not bool(y)} \n",
    "                     for y in dev_df['mlai']]\n",
    "\n",
    "    print(\n",
    "        \"Using {} examples ({} training, {} evaluation)\".format(\n",
    "            len(train_texts) + len(dev_texts), len(train_texts), len(dev_texts)\n",
    "        )\n",
    "    )\n",
    "    train_data = list(zip(train_texts, [{\"cats\": cats} for cats in train_cats]))\n",
    "        \n",
    "    # get names of other pipes to disable them during training\n",
    "    other_pipes = [pipe for pipe in nlp.pipe_names if pipe != \"textcat\"]\n",
    "    results_df = pd.DataFrame(np.nan, index=range(n_iter), columns=['loss', 'accuracy', 'precision', 'recall', 'f1'])\n",
    "    with nlp.disable_pipes(*other_pipes):  # only train textcat\n",
    "        optimizer = nlp.begin_training()\n",
    "        if init_tok2vec is not None:\n",
    "            init_tok2vec = Path(init_tok2vec)\n",
    "            with init_tok2vec.open(\"rb\") as file_:\n",
    "                textcat.model.tok2vec.from_bytes(file_.read())\n",
    "        print(\"Training the model...\")\n",
    "        print(\"{:^5}\\t{:^5}\\t{:^5}\\t{:^5}\\t{:^5}\".format(\"LOSS\", \"A\", \"P\", \"R\", \"F\"))\n",
    "        batch_sizes = compounding(4.0, 32.0, 1.001)\n",
    "        for i in range(n_iter):\n",
    "            losses = {}\n",
    "            # batch up the examples using spaCy's minibatch\n",
    "            random.shuffle(train_data)\n",
    "            batches = minibatch(train_data, size=batch_sizes)\n",
    "            for batch in batches:\n",
    "                texts, annotations = zip(*batch)\n",
    "                nlp.update(texts, annotations, sgd=optimizer, drop=0.2, losses=losses)\n",
    "            with textcat.model.use_params(optimizer.averages):\n",
    "                # evaluate on the dev data split off in load_data()\n",
    "                scores = evaluate(nlp.tokenizer, textcat, dev_texts, dev_cats)\n",
    "            results_df.loc[i,'loss'] = losses[\"textcat\"]\n",
    "            results_df.loc[i,'accuracy'] = scores[\"textcat_a\"]\n",
    "            results_df.loc[i,'precision'] = scores[\"textcat_p\"]\n",
    "            results_df.loc[i,'recall'] = scores[\"textcat_r\"]\n",
    "            results_df.loc[i,'f1'] = scores[\"textcat_f\"]\n",
    "            print(\n",
    "                \"{0:.3f}\\t{1:.3f}\\t{2:.3f}\\t{3:.3f}\\t{4:.3f}\".format(  # print a simple table\n",
    "                    losses[\"textcat\"],\n",
    "                    scores[\"textcat_a\"],\n",
    "                    scores[\"textcat_p\"],\n",
    "                    scores[\"textcat_r\"],\n",
    "                    scores[\"textcat_f\"],\n",
    "                )\n",
    "            )\n",
    "    return results_df        \n",
    "                \n",
    "\n",
    "def evaluate(tokenizer, textcat, texts, cats):\n",
    "    docs = (tokenizer(text) for text in texts)\n",
    "    tp = 0.0  # True positives\n",
    "    fp = 1e-8  # False positives\n",
    "    fn = 1e-8  # False negatives\n",
    "    tn = 0.0  # True negatives\n",
    "    for i, doc in enumerate(textcat.pipe(docs)):\n",
    "        gold = cats[i]\n",
    "        for label, score in doc.cats.items():\n",
    "            if label not in gold:\n",
    "                continue\n",
    "            if label == \"NEGATIVE\":\n",
    "                continue\n",
    "            if score >= 0.5 and gold[label] >= 0.5:\n",
    "                tp += 1.0\n",
    "            elif score >= 0.5 and gold[label] < 0.5:\n",
    "                fp += 1.0\n",
    "            elif score < 0.5 and gold[label] < 0.5:\n",
    "                tn += 1\n",
    "            elif score < 0.5 and gold[label] >= 0.5:\n",
    "                fn += 1\n",
    "    precision = tp / (tp + fp)\n",
    "    recall = tp / (tp + fn)\n",
    "    accuracy = (tp + tn) / (tp + tn + fn + fp)\n",
    "    if (precision + recall) == 0:\n",
    "        f_score = 0.0\n",
    "    else:\n",
    "        f_score = 2 * (precision * recall) / (precision + recall)\n",
    "    return {\"textcat_a\": accuracy, \"textcat_p\": precision, \"textcat_r\": recall, \"textcat_f\": f_score}"
   ]
  },
  {
   "cell_type": "code",
   "execution_count": 11,
   "metadata": {},
   "outputs": [
    {
     "name": "stdout",
     "output_type": "stream",
     "text": [
      "Loaded model 'en_core_web_lg'\n",
      "Loading data...\n",
      "Using 23833 examples (15896 training, 7937 evaluation)\n",
      "Training the model...\n",
      "LOSS \t  A  \t  P  \t  R  \t  F  \n",
      "6.318\t0.890\t0.871\t0.928\t0.899\n",
      "0.061\t0.885\t0.875\t0.911\t0.893\n",
      "0.023\t0.882\t0.872\t0.910\t0.891\n",
      "0.017\t0.883\t0.872\t0.911\t0.891\n",
      "0.014\t0.880\t0.869\t0.908\t0.888\n"
     ]
    }
   ],
   "source": [
    "spacy.util.fix_random_seed(1)\n",
    "mp1000 = main(model='en_core_web_lg', init_tok2vec='pretrained-model-lg-tags/model999.bin')"
   ]
  },
  {
   "cell_type": "code",
   "execution_count": 12,
   "metadata": {},
   "outputs": [
    {
     "name": "stdout",
     "output_type": "stream",
     "text": [
      "Loaded model 'en_core_web_lg'\n",
      "Loading data...\n",
      "Using 23833 examples (15896 training, 7937 evaluation)\n",
      "Training the model...\n",
      "LOSS \t  A  \t  P  \t  R  \t  F  \n",
      "8.120\t0.879\t0.872\t0.902\t0.887\n",
      "0.072\t0.877\t0.866\t0.907\t0.886\n",
      "0.027\t0.874\t0.865\t0.900\t0.882\n",
      "0.022\t0.869\t0.862\t0.893\t0.877\n",
      "0.019\t0.868\t0.862\t0.893\t0.877\n"
     ]
    }
   ],
   "source": [
    "mb = main(model='en_core_web_lg', init_tok2vec=None)"
   ]
  },
  {
   "cell_type": "code",
   "execution_count": 13,
   "metadata": {},
   "outputs": [
    {
     "name": "stdout",
     "output_type": "stream",
     "text": [
      "Created blank 'en' model\n",
      "Loading data...\n",
      "Using 23833 examples (15896 training, 7937 evaluation)\n",
      "Training the model...\n",
      "LOSS \t  A  \t  P  \t  R  \t  F  \n",
      "6.810\t0.873\t0.866\t0.897\t0.882\n",
      "0.066\t0.868\t0.864\t0.890\t0.877\n",
      "0.025\t0.868\t0.862\t0.892\t0.877\n",
      "0.019\t0.869\t0.862\t0.895\t0.878\n",
      "0.016\t0.867\t0.860\t0.892\t0.876\n"
     ]
    }
   ],
   "source": [
    "bp1000 = main(model=None, init_tok2vec='pretrained-model-tags/model999.bin')"
   ]
  },
  {
   "cell_type": "code",
   "execution_count": 14,
   "metadata": {},
   "outputs": [
    {
     "name": "stdout",
     "output_type": "stream",
     "text": [
      "Created blank 'en' model\n",
      "Loading data...\n",
      "Using 23833 examples (15896 training, 7937 evaluation)\n",
      "Training the model...\n",
      "LOSS \t  A  \t  P  \t  R  \t  F  \n",
      "9.957\t0.850\t0.832\t0.894\t0.862\n",
      "0.085\t0.854\t0.849\t0.878\t0.863\n",
      "0.032\t0.853\t0.850\t0.875\t0.863\n",
      "0.025\t0.851\t0.849\t0.870\t0.860\n",
      "0.020\t0.846\t0.845\t0.866\t0.855\n"
     ]
    }
   ],
   "source": [
    "bb = main(model=None, init_tok2vec=None)"
   ]
  },
  {
   "cell_type": "code",
   "execution_count": 15,
   "metadata": {},
   "outputs": [
    {
     "name": "stdout",
     "output_type": "stream",
     "text": [
      "Loaded model 'en_core_web_lg'\n",
      "Loading data...\n",
      "Using 23833 examples (15896 training, 7937 evaluation)\n",
      "Training the model...\n",
      "LOSS \t  A  \t  P  \t  R  \t  F  \n",
      "6.943\t0.882\t0.870\t0.913\t0.891\n",
      "0.067\t0.879\t0.869\t0.906\t0.887\n",
      "0.026\t0.873\t0.865\t0.898\t0.881\n",
      "0.020\t0.871\t0.863\t0.897\t0.880\n",
      "0.016\t0.869\t0.860\t0.896\t0.878\n"
     ]
    }
   ],
   "source": [
    "mp50 = main(model='en_core_web_lg', init_tok2vec='pretrained-model-lg-tags/model49.bin')"
   ]
  },
  {
   "cell_type": "code",
   "execution_count": 16,
   "metadata": {},
   "outputs": [
    {
     "name": "stdout",
     "output_type": "stream",
     "text": [
      "Created blank 'en' model\n",
      "Loading data...\n",
      "Using 23833 examples (15896 training, 7937 evaluation)\n",
      "Training the model...\n",
      "LOSS \t  A  \t  P  \t  R  \t  F  \n",
      "8.137\t0.863\t0.853\t0.894\t0.873\n",
      "0.076\t0.861\t0.856\t0.884\t0.870\n",
      "0.030\t0.858\t0.856\t0.877\t0.866\n",
      "0.024\t0.855\t0.855\t0.873\t0.864\n",
      "0.017\t0.859\t0.854\t0.882\t0.868\n"
     ]
    }
   ],
   "source": [
    "bp50 = main(model=None, init_tok2vec='pretrained-model-tags/model49.bin')"
   ]
  },
  {
   "cell_type": "code",
   "execution_count": 17,
   "metadata": {},
   "outputs": [],
   "source": [
    "mp1000['model'] = 'Large Model'\n",
    "mp1000['pretraining'] = '1000'\n",
    "mp50['model'] = 'Large Model'\n",
    "mp50['pretraining'] = '50'\n",
    "mb['model'] = 'Large Model'\n",
    "mb['pretraining'] = '0'\n",
    "bp1000['model'] = 'Blank Model'\n",
    "bp1000['pretraining'] = '1000'\n",
    "bp50['model'] = 'Blank Model'\n",
    "bp50['pretraining'] = '50'\n",
    "bb['model'] = 'Blank Model'\n",
    "bb['pretraining'] = '0'"
   ]
  },
  {
   "cell_type": "code",
   "execution_count": 18,
   "metadata": {},
   "outputs": [],
   "source": [
    "df = pd.concat([mp1000, mp50, mb, bp1000, bp50, bb])\n",
    "df['n_iter'] = df.index + 1"
   ]
  },
  {
   "cell_type": "code",
   "execution_count": 19,
   "metadata": {},
   "outputs": [
    {
     "data": {
      "text/html": [
       "<div>\n",
       "<style scoped>\n",
       "    .dataframe tbody tr th:only-of-type {\n",
       "        vertical-align: middle;\n",
       "    }\n",
       "\n",
       "    .dataframe tbody tr th {\n",
       "        vertical-align: top;\n",
       "    }\n",
       "\n",
       "    .dataframe thead th {\n",
       "        text-align: right;\n",
       "    }\n",
       "</style>\n",
       "<table border=\"1\" class=\"dataframe\">\n",
       "  <thead>\n",
       "    <tr style=\"text-align: right;\">\n",
       "      <th></th>\n",
       "      <th>loss</th>\n",
       "      <th>accuracy</th>\n",
       "      <th>precision</th>\n",
       "      <th>recall</th>\n",
       "      <th>f1</th>\n",
       "      <th>model</th>\n",
       "      <th>pretraining</th>\n",
       "      <th>n_iter</th>\n",
       "    </tr>\n",
       "  </thead>\n",
       "  <tbody>\n",
       "    <tr>\n",
       "      <th>0</th>\n",
       "      <td>6.317707</td>\n",
       "      <td>0.890135</td>\n",
       "      <td>0.871316</td>\n",
       "      <td>0.928109</td>\n",
       "      <td>0.898816</td>\n",
       "      <td>Large Model</td>\n",
       "      <td>1000</td>\n",
       "      <td>1</td>\n",
       "    </tr>\n",
       "    <tr>\n",
       "      <th>1</th>\n",
       "      <td>0.060880</td>\n",
       "      <td>0.884717</td>\n",
       "      <td>0.875000</td>\n",
       "      <td>0.910855</td>\n",
       "      <td>0.892568</td>\n",
       "      <td>Large Model</td>\n",
       "      <td>1000</td>\n",
       "      <td>2</td>\n",
       "    </tr>\n",
       "    <tr>\n",
       "      <th>2</th>\n",
       "      <td>0.022972</td>\n",
       "      <td>0.882449</td>\n",
       "      <td>0.872243</td>\n",
       "      <td>0.909657</td>\n",
       "      <td>0.890557</td>\n",
       "      <td>Large Model</td>\n",
       "      <td>1000</td>\n",
       "      <td>3</td>\n",
       "    </tr>\n",
       "    <tr>\n",
       "      <th>3</th>\n",
       "      <td>0.017460</td>\n",
       "      <td>0.882953</td>\n",
       "      <td>0.872189</td>\n",
       "      <td>0.910855</td>\n",
       "      <td>0.891103</td>\n",
       "      <td>Large Model</td>\n",
       "      <td>1000</td>\n",
       "      <td>4</td>\n",
       "    </tr>\n",
       "    <tr>\n",
       "      <th>4</th>\n",
       "      <td>0.014031</td>\n",
       "      <td>0.879929</td>\n",
       "      <td>0.869436</td>\n",
       "      <td>0.907980</td>\n",
       "      <td>0.888290</td>\n",
       "      <td>Large Model</td>\n",
       "      <td>1000</td>\n",
       "      <td>5</td>\n",
       "    </tr>\n",
       "    <tr>\n",
       "      <th>0</th>\n",
       "      <td>6.943340</td>\n",
       "      <td>0.882449</td>\n",
       "      <td>0.870201</td>\n",
       "      <td>0.912533</td>\n",
       "      <td>0.890864</td>\n",
       "      <td>Large Model</td>\n",
       "      <td>50</td>\n",
       "      <td>1</td>\n",
       "    </tr>\n",
       "    <tr>\n",
       "      <th>1</th>\n",
       "      <td>0.066511</td>\n",
       "      <td>0.878544</td>\n",
       "      <td>0.868766</td>\n",
       "      <td>0.905823</td>\n",
       "      <td>0.886908</td>\n",
       "      <td>Large Model</td>\n",
       "      <td>50</td>\n",
       "      <td>2</td>\n",
       "    </tr>\n",
       "    <tr>\n",
       "      <th>2</th>\n",
       "      <td>0.025983</td>\n",
       "      <td>0.872622</td>\n",
       "      <td>0.864622</td>\n",
       "      <td>0.898394</td>\n",
       "      <td>0.881185</td>\n",
       "      <td>Large Model</td>\n",
       "      <td>50</td>\n",
       "      <td>3</td>\n",
       "    </tr>\n",
       "    <tr>\n",
       "      <th>3</th>\n",
       "      <td>0.020264</td>\n",
       "      <td>0.870984</td>\n",
       "      <td>0.862704</td>\n",
       "      <td>0.897436</td>\n",
       "      <td>0.879728</td>\n",
       "      <td>Large Model</td>\n",
       "      <td>50</td>\n",
       "      <td>4</td>\n",
       "    </tr>\n",
       "    <tr>\n",
       "      <th>4</th>\n",
       "      <td>0.016461</td>\n",
       "      <td>0.868716</td>\n",
       "      <td>0.860133</td>\n",
       "      <td>0.895998</td>\n",
       "      <td>0.877700</td>\n",
       "      <td>Large Model</td>\n",
       "      <td>50</td>\n",
       "      <td>5</td>\n",
       "    </tr>\n",
       "  </tbody>\n",
       "</table>\n",
       "</div>"
      ],
      "text/plain": [
       "       loss  accuracy  precision    recall        f1        model pretraining  \\\n",
       "0  6.317707  0.890135   0.871316  0.928109  0.898816  Large Model        1000   \n",
       "1  0.060880  0.884717   0.875000  0.910855  0.892568  Large Model        1000   \n",
       "2  0.022972  0.882449   0.872243  0.909657  0.890557  Large Model        1000   \n",
       "3  0.017460  0.882953   0.872189  0.910855  0.891103  Large Model        1000   \n",
       "4  0.014031  0.879929   0.869436  0.907980  0.888290  Large Model        1000   \n",
       "0  6.943340  0.882449   0.870201  0.912533  0.890864  Large Model          50   \n",
       "1  0.066511  0.878544   0.868766  0.905823  0.886908  Large Model          50   \n",
       "2  0.025983  0.872622   0.864622  0.898394  0.881185  Large Model          50   \n",
       "3  0.020264  0.870984   0.862704  0.897436  0.879728  Large Model          50   \n",
       "4  0.016461  0.868716   0.860133  0.895998  0.877700  Large Model          50   \n",
       "\n",
       "   n_iter  \n",
       "0       1  \n",
       "1       2  \n",
       "2       3  \n",
       "3       4  \n",
       "4       5  \n",
       "0       1  \n",
       "1       2  \n",
       "2       3  \n",
       "3       4  \n",
       "4       5  "
      ]
     },
     "execution_count": 19,
     "metadata": {},
     "output_type": "execute_result"
    }
   ],
   "source": [
    "df.head(10)"
   ]
  },
  {
   "cell_type": "code",
   "execution_count": 39,
   "metadata": {},
   "outputs": [],
   "source": [
    "#df.to_csv('scores.csv')\n",
    "#df = pd.read_csv('scores.csv')\n",
    "df.pretraining = df.pretraining.astype('category', categories=['0', '50', '1000'])"
   ]
  },
  {
   "cell_type": "code",
   "execution_count": 20,
   "metadata": {},
   "outputs": [],
   "source": [
    "from plotnine import *\n",
    "%matplotlib inline\n",
    "\n",
    "import warnings\n",
    "warnings.filterwarnings('ignore')"
   ]
  },
  {
   "cell_type": "code",
   "execution_count": 40,
   "metadata": {},
   "outputs": [
    {
     "data": {
      "image/png": "[encoded data removed]",
      "text/plain": [
       "<Figure size 640x480 with 2 Axes>"
      ]
     },
     "metadata": {},
     "output_type": "display_data"
    },
    {
     "data": {
      "text/plain": [
       "<ggplot: (-9223372036544678873)>"
      ]
     },
     "execution_count": 40,
     "metadata": {},
     "output_type": "execute_result"
    }
   ],
   "source": [
    "color_dict = {'0': 'green', \n",
    "              '50':'orange',\n",
    "              '1000':'red'}\n",
    "\n",
    "(ggplot(df, aes('n_iter', 'loss', color='pretraining'))\n",
    " + geom_line()\n",
    " + facet_wrap('~model')\n",
    " + labs(x='Number of iterations', y='Training Loss', color='Pretraining iterations')\n",
    " + scale_color_manual(values=color_dict)\n",
    " + theme_classic()\n",
    " )\n",
    "\n",
    "#p.save(filename = '../loss.png', height=5, width=5, units = 'in', dpi=500)"
   ]
  },
  {
   "cell_type": "code",
   "execution_count": 41,
   "metadata": {},
   "outputs": [
    {
     "data": {
      "image/png": "[encoded data removed]",
      "text/plain": [
       "<Figure size 640x480 with 2 Axes>"
      ]
     },
     "metadata": {},
     "output_type": "display_data"
    },
    {
     "data": {
      "text/plain": [
       "<ggplot: (309822973)>"
      ]
     },
     "execution_count": 41,
     "metadata": {},
     "output_type": "execute_result"
    }
   ],
   "source": [
    "(ggplot(df, aes('n_iter', 'accuracy', color='pretraining'))\n",
    " + geom_line()\n",
    " + facet_wrap('~model')\n",
    " + labs(x='Number of iterations', y='Accuracy', color='Pretraining iterations')\n",
    " + scale_color_manual(values=color_dict)\n",
    " + theme_classic()\n",
    " )\n",
    "\n",
    "#p.save(filename = '../acc.png', height=5, width=5, units = 'in', dpi=500)"
   ]
  },
  {
   "cell_type": "code",
   "execution_count": 42,
   "metadata": {},
   "outputs": [
    {
     "data": {
      "image/png": "[encoded data removed]",
      "text/plain": [
       "<Figure size 640x480 with 2 Axes>"
      ]
     },
     "metadata": {},
     "output_type": "display_data"
    },
    {
     "data": {
      "text/plain": [
       "<ggplot: (-9223372036545874386)>"
      ]
     },
     "execution_count": 42,
     "metadata": {},
     "output_type": "execute_result"
    }
   ],
   "source": [
    "(ggplot(df, aes('n_iter', 'f1', color='pretraining'))\n",
    " + geom_line()\n",
    " + facet_wrap('~model')\n",
    " + labs(x='Number of iterations', y='F1 score', color='Pretraining iterations')\n",
    " + scale_color_manual(values=color_dict)\n",
    " + theme_classic()\n",
    " )\n",
    "\n",
    "#p.save(filename = '../f1.png', height=5, width=5, units = 'in', dpi=500)"
   ]
  },
  {
   "cell_type": "code",
   "execution_count": null,
   "metadata": {},
   "outputs": [],
   "source": []
  }
 ],
 "metadata": {
  "kernelspec": {
   "display_name": "Python 3",
   "language": "python",
   "name": "python3"
  },
  "language_info": {
   "codemirror_mode": {
    "name": "ipython",
    "version": 3
   },
   "file_extension": ".py",
   "mimetype": "text/x-python",
   "name": "python",
   "nbconvert_exporter": "python",
   "pygments_lexer": "ipython3",
   "version": "3.6.8"
  }
 },
 "nbformat": 4,
 "nbformat_minor": 2
}
